{
 "cells": [
  {
   "cell_type": "code",
   "execution_count": 3,
   "metadata": {
    "id": "hSPaOAmuUKzK"
   },
   "outputs": [],
   "source": [
    "import pandas as pd\n",
    "import time\n",
    "import re\n",
    "import matplotlib.pyplot as plt\n",
    "from sklearn.metrics import accuracy_score\n",
    "from sklearn.model_selection import train_test_split\n",
    "from sklearn.linear_model import LogisticRegression\n",
    "from sklearn.feature_extraction.text import TfidfVectorizer\n",
    "from sklearn.pipeline import Pipeline\n",
    "from sklearn.preprocessing import LabelEncoder\n",
    "import spacy\n"
   ]
  },
  {
   "cell_type": "code",
   "execution_count": 6,
   "metadata": {
    "id": "P9bzXWYLVI_S"
   },
   "outputs": [
    {
     "data": {
      "image/png": "[encoded data removed]",
      "text/plain": [
       "<Figure size 640x480 with 1 Axes>"
      ]
     },
     "metadata": {},
     "output_type": "display_data"
    },
    {
     "name": "stdout",
     "output_type": "stream",
     "text": [
      "Index(['text', 'emotions'], dtype='object')\n"
     ]
    },
    {
     "ename": "FileNotFoundError",
     "evalue": "[Errno 2] No such file or directory: 'emotion.csv'",
     "output_type": "error",
     "traceback": [
      "\u001b[1;31m---------------------------------------------------------------------------\u001b[0m",
      "\u001b[1;31mFileNotFoundError\u001b[0m                         Traceback (most recent call last)",
      "\u001b[1;32mc:\\Users\\lokes\\coding filess\\PYTHON\\NLP\\code\\emotion detection chatbot.ipynb Cell 2\u001b[0m line \u001b[0;36m5\n\u001b[0;32m     <a href='vscode-notebook-cell:/c%3A/Users/lokes/coding%20filess/PYTHON/NLP/code/emotion%20detection%20chatbot.ipynb#W1sZmlsZQ%3D%3D?line=47'>48</a>\u001b[0m \u001b[39mprint\u001b[39m(data\u001b[39m.\u001b[39mcolumns)\n\u001b[0;32m     <a href='vscode-notebook-cell:/c%3A/Users/lokes/coding%20filess/PYTHON/NLP/code/emotion%20detection%20chatbot.ipynb#W1sZmlsZQ%3D%3D?line=49'>50</a>\u001b[0m train, test \u001b[39m=\u001b[39m train_test_split(data, test_size \u001b[39m=\u001b[39m \u001b[39m0.2\u001b[39m, random_state \u001b[39m=\u001b[39m \u001b[39m12\u001b[39m, stratify \u001b[39m=\u001b[39m data[\u001b[39m'\u001b[39m\u001b[39memotions\u001b[39m\u001b[39m'\u001b[39m])\n\u001b[1;32m---> <a href='vscode-notebook-cell:/c%3A/Users/lokes/coding%20filess/PYTHON/NLP/code/emotion%20detection%20chatbot.ipynb#W1sZmlsZQ%3D%3D?line=51'>52</a>\u001b[0m data \u001b[39m=\u001b[39m pd\u001b[39m.\u001b[39;49mread_csv(\u001b[39m\"\u001b[39;49m\u001b[39memotion.csv\u001b[39;49m\u001b[39m\"\u001b[39;49m, header\u001b[39m=\u001b[39;49m\u001b[39m0\u001b[39;49m, delimiter\u001b[39m=\u001b[39;49m\u001b[39m\"\u001b[39;49m\u001b[39m,\u001b[39;49m\u001b[39m\"\u001b[39;49m, quoting\u001b[39m=\u001b[39;49m\u001b[39m2\u001b[39;49m, usecols\u001b[39m=\u001b[39;49m[\u001b[39m'\u001b[39;49m\u001b[39mtext\u001b[39;49m\u001b[39m'\u001b[39;49m, \u001b[39m'\u001b[39;49m\u001b[39memotions\u001b[39;49m\u001b[39m'\u001b[39;49m])\n\u001b[0;32m     <a href='vscode-notebook-cell:/c%3A/Users/lokes/coding%20filess/PYTHON/NLP/code/emotion%20detection%20chatbot.ipynb#W1sZmlsZQ%3D%3D?line=53'>54</a>\u001b[0m X \u001b[39m=\u001b[39m data[\u001b[39m'\u001b[39m\u001b[39mtext\u001b[39m\u001b[39m'\u001b[39m]\n\u001b[0;32m     <a href='vscode-notebook-cell:/c%3A/Users/lokes/coding%20filess/PYTHON/NLP/code/emotion%20detection%20chatbot.ipynb#W1sZmlsZQ%3D%3D?line=54'>55</a>\u001b[0m y \u001b[39m=\u001b[39m data[\u001b[39m'\u001b[39m\u001b[39memotions\u001b[39m\u001b[39m'\u001b[39m]\n",
      "File \u001b[1;32mc:\\Users\\lokes\\anaconda3\\lib\\site-packages\\pandas\\util\\_decorators.py:211\u001b[0m, in \u001b[0;36mdeprecate_kwarg.<locals>._deprecate_kwarg.<locals>.wrapper\u001b[1;34m(*args, **kwargs)\u001b[0m\n\u001b[0;32m    209\u001b[0m     \u001b[39melse\u001b[39;00m:\n\u001b[0;32m    210\u001b[0m         kwargs[new_arg_name] \u001b[39m=\u001b[39m new_arg_value\n\u001b[1;32m--> 211\u001b[0m \u001b[39mreturn\u001b[39;00m func(\u001b[39m*\u001b[39margs, \u001b[39m*\u001b[39m\u001b[39m*\u001b[39mkwargs)\n",
      "File \u001b[1;32mc:\\Users\\lokes\\anaconda3\\lib\\site-packages\\pandas\\util\\_decorators.py:331\u001b[0m, in \u001b[0;36mdeprecate_nonkeyword_arguments.<locals>.decorate.<locals>.wrapper\u001b[1;34m(*args, **kwargs)\u001b[0m\n\u001b[0;32m    325\u001b[0m \u001b[39mif\u001b[39;00m \u001b[39mlen\u001b[39m(args) \u001b[39m>\u001b[39m num_allow_args:\n\u001b[0;32m    326\u001b[0m     warnings\u001b[39m.\u001b[39mwarn(\n\u001b[0;32m    327\u001b[0m         msg\u001b[39m.\u001b[39mformat(arguments\u001b[39m=\u001b[39m_format_argument_list(allow_args)),\n\u001b[0;32m    328\u001b[0m         \u001b[39mFutureWarning\u001b[39;00m,\n\u001b[0;32m    329\u001b[0m         stacklevel\u001b[39m=\u001b[39mfind_stack_level(),\n\u001b[0;32m    330\u001b[0m     )\n\u001b[1;32m--> 331\u001b[0m \u001b[39mreturn\u001b[39;00m func(\u001b[39m*\u001b[39margs, \u001b[39m*\u001b[39m\u001b[39m*\u001b[39mkwargs)\n",
      "File \u001b[1;32mc:\\Users\\lokes\\anaconda3\\lib\\site-packages\\pandas\\io\\parsers\\readers.py:950\u001b[0m, in \u001b[0;36mread_csv\u001b[1;34m(filepath_or_buffer, sep, delimiter, header, names, index_col, usecols, squeeze, prefix, mangle_dupe_cols, dtype, engine, converters, true_values, false_values, skipinitialspace, skiprows, skipfooter, nrows, na_values, keep_default_na, na_filter, verbose, skip_blank_lines, parse_dates, infer_datetime_format, keep_date_col, date_parser, dayfirst, cache_dates, iterator, chunksize, compression, thousands, decimal, lineterminator, quotechar, quoting, doublequote, escapechar, comment, encoding, encoding_errors, dialect, error_bad_lines, warn_bad_lines, on_bad_lines, delim_whitespace, low_memory, memory_map, float_precision, storage_options)\u001b[0m\n\u001b[0;32m    935\u001b[0m kwds_defaults \u001b[39m=\u001b[39m _refine_defaults_read(\n\u001b[0;32m    936\u001b[0m     dialect,\n\u001b[0;32m    937\u001b[0m     delimiter,\n\u001b[1;32m   (...)\u001b[0m\n\u001b[0;32m    946\u001b[0m     defaults\u001b[39m=\u001b[39m{\u001b[39m\"\u001b[39m\u001b[39mdelimiter\u001b[39m\u001b[39m\"\u001b[39m: \u001b[39m\"\u001b[39m\u001b[39m,\u001b[39m\u001b[39m\"\u001b[39m},\n\u001b[0;32m    947\u001b[0m )\n\u001b[0;32m    948\u001b[0m kwds\u001b[39m.\u001b[39mupdate(kwds_defaults)\n\u001b[1;32m--> 950\u001b[0m \u001b[39mreturn\u001b[39;00m _read(filepath_or_buffer, kwds)\n",
      "File \u001b[1;32mc:\\Users\\lokes\\anaconda3\\lib\\site-packages\\pandas\\io\\parsers\\readers.py:605\u001b[0m, in \u001b[0;36m_read\u001b[1;34m(filepath_or_buffer, kwds)\u001b[0m\n\u001b[0;32m    602\u001b[0m _validate_names(kwds\u001b[39m.\u001b[39mget(\u001b[39m\"\u001b[39m\u001b[39mnames\u001b[39m\u001b[39m\"\u001b[39m, \u001b[39mNone\u001b[39;00m))\n\u001b[0;32m    604\u001b[0m \u001b[39m# Create the parser.\u001b[39;00m\n\u001b[1;32m--> 605\u001b[0m parser \u001b[39m=\u001b[39m TextFileReader(filepath_or_buffer, \u001b[39m*\u001b[39m\u001b[39m*\u001b[39mkwds)\n\u001b[0;32m    607\u001b[0m \u001b[39mif\u001b[39;00m chunksize \u001b[39mor\u001b[39;00m iterator:\n\u001b[0;32m    608\u001b[0m     \u001b[39mreturn\u001b[39;00m parser\n",
      "File \u001b[1;32mc:\\Users\\lokes\\anaconda3\\lib\\site-packages\\pandas\\io\\parsers\\readers.py:1442\u001b[0m, in \u001b[0;36mTextFileReader.__init__\u001b[1;34m(self, f, engine, **kwds)\u001b[0m\n\u001b[0;32m   1439\u001b[0m     \u001b[39mself\u001b[39m\u001b[39m.\u001b[39moptions[\u001b[39m\"\u001b[39m\u001b[39mhas_index_names\u001b[39m\u001b[39m\"\u001b[39m] \u001b[39m=\u001b[39m kwds[\u001b[39m\"\u001b[39m\u001b[39mhas_index_names\u001b[39m\u001b[39m\"\u001b[39m]\n\u001b[0;32m   1441\u001b[0m \u001b[39mself\u001b[39m\u001b[39m.\u001b[39mhandles: IOHandles \u001b[39m|\u001b[39m \u001b[39mNone\u001b[39;00m \u001b[39m=\u001b[39m \u001b[39mNone\u001b[39;00m\n\u001b[1;32m-> 1442\u001b[0m \u001b[39mself\u001b[39m\u001b[39m.\u001b[39m_engine \u001b[39m=\u001b[39m \u001b[39mself\u001b[39;49m\u001b[39m.\u001b[39;49m_make_engine(f, \u001b[39mself\u001b[39;49m\u001b[39m.\u001b[39;49mengine)\n",
      "File \u001b[1;32mc:\\Users\\lokes\\anaconda3\\lib\\site-packages\\pandas\\io\\parsers\\readers.py:1735\u001b[0m, in \u001b[0;36mTextFileReader._make_engine\u001b[1;34m(self, f, engine)\u001b[0m\n\u001b[0;32m   1733\u001b[0m     \u001b[39mif\u001b[39;00m \u001b[39m\"\u001b[39m\u001b[39mb\u001b[39m\u001b[39m\"\u001b[39m \u001b[39mnot\u001b[39;00m \u001b[39min\u001b[39;00m mode:\n\u001b[0;32m   1734\u001b[0m         mode \u001b[39m+\u001b[39m\u001b[39m=\u001b[39m \u001b[39m\"\u001b[39m\u001b[39mb\u001b[39m\u001b[39m\"\u001b[39m\n\u001b[1;32m-> 1735\u001b[0m \u001b[39mself\u001b[39m\u001b[39m.\u001b[39mhandles \u001b[39m=\u001b[39m get_handle(\n\u001b[0;32m   1736\u001b[0m     f,\n\u001b[0;32m   1737\u001b[0m     mode,\n\u001b[0;32m   1738\u001b[0m     encoding\u001b[39m=\u001b[39;49m\u001b[39mself\u001b[39;49m\u001b[39m.\u001b[39;49moptions\u001b[39m.\u001b[39;49mget(\u001b[39m\"\u001b[39;49m\u001b[39mencoding\u001b[39;49m\u001b[39m\"\u001b[39;49m, \u001b[39mNone\u001b[39;49;00m),\n\u001b[0;32m   1739\u001b[0m     compression\u001b[39m=\u001b[39;49m\u001b[39mself\u001b[39;49m\u001b[39m.\u001b[39;49moptions\u001b[39m.\u001b[39;49mget(\u001b[39m\"\u001b[39;49m\u001b[39mcompression\u001b[39;49m\u001b[39m\"\u001b[39;49m, \u001b[39mNone\u001b[39;49;00m),\n\u001b[0;32m   1740\u001b[0m     memory_map\u001b[39m=\u001b[39;49m\u001b[39mself\u001b[39;49m\u001b[39m.\u001b[39;49moptions\u001b[39m.\u001b[39;49mget(\u001b[39m\"\u001b[39;49m\u001b[39mmemory_map\u001b[39;49m\u001b[39m\"\u001b[39;49m, \u001b[39mFalse\u001b[39;49;00m),\n\u001b[0;32m   1741\u001b[0m     is_text\u001b[39m=\u001b[39;49mis_text,\n\u001b[0;32m   1742\u001b[0m     errors\u001b[39m=\u001b[39;49m\u001b[39mself\u001b[39;49m\u001b[39m.\u001b[39;49moptions\u001b[39m.\u001b[39;49mget(\u001b[39m\"\u001b[39;49m\u001b[39mencoding_errors\u001b[39;49m\u001b[39m\"\u001b[39;49m, \u001b[39m\"\u001b[39;49m\u001b[39mstrict\u001b[39;49m\u001b[39m\"\u001b[39;49m),\n\u001b[0;32m   1743\u001b[0m     storage_options\u001b[39m=\u001b[39;49m\u001b[39mself\u001b[39;49m\u001b[39m.\u001b[39;49moptions\u001b[39m.\u001b[39;49mget(\u001b[39m\"\u001b[39;49m\u001b[39mstorage_options\u001b[39;49m\u001b[39m\"\u001b[39;49m, \u001b[39mNone\u001b[39;49;00m),\n\u001b[0;32m   1744\u001b[0m )\n\u001b[0;32m   1745\u001b[0m \u001b[39massert\u001b[39;00m \u001b[39mself\u001b[39m\u001b[39m.\u001b[39mhandles \u001b[39mis\u001b[39;00m \u001b[39mnot\u001b[39;00m \u001b[39mNone\u001b[39;00m\n\u001b[0;32m   1746\u001b[0m f \u001b[39m=\u001b[39m \u001b[39mself\u001b[39m\u001b[39m.\u001b[39mhandles\u001b[39m.\u001b[39mhandle\n",
      "File \u001b[1;32mc:\\Users\\lokes\\anaconda3\\lib\\site-packages\\pandas\\io\\common.py:856\u001b[0m, in \u001b[0;36mget_handle\u001b[1;34m(path_or_buf, mode, encoding, compression, memory_map, is_text, errors, storage_options)\u001b[0m\n\u001b[0;32m    851\u001b[0m \u001b[39melif\u001b[39;00m \u001b[39misinstance\u001b[39m(handle, \u001b[39mstr\u001b[39m):\n\u001b[0;32m    852\u001b[0m     \u001b[39m# Check whether the filename is to be opened in binary mode.\u001b[39;00m\n\u001b[0;32m    853\u001b[0m     \u001b[39m# Binary mode does not support 'encoding' and 'newline'.\u001b[39;00m\n\u001b[0;32m    854\u001b[0m     \u001b[39mif\u001b[39;00m ioargs\u001b[39m.\u001b[39mencoding \u001b[39mand\u001b[39;00m \u001b[39m\"\u001b[39m\u001b[39mb\u001b[39m\u001b[39m\"\u001b[39m \u001b[39mnot\u001b[39;00m \u001b[39min\u001b[39;00m ioargs\u001b[39m.\u001b[39mmode:\n\u001b[0;32m    855\u001b[0m         \u001b[39m# Encoding\u001b[39;00m\n\u001b[1;32m--> 856\u001b[0m         handle \u001b[39m=\u001b[39m \u001b[39mopen\u001b[39;49m(\n\u001b[0;32m    857\u001b[0m             handle,\n\u001b[0;32m    858\u001b[0m             ioargs\u001b[39m.\u001b[39;49mmode,\n\u001b[0;32m    859\u001b[0m             encoding\u001b[39m=\u001b[39;49mioargs\u001b[39m.\u001b[39;49mencoding,\n\u001b[0;32m    860\u001b[0m             errors\u001b[39m=\u001b[39;49merrors,\n\u001b[0;32m    861\u001b[0m             newline\u001b[39m=\u001b[39;49m\u001b[39m\"\u001b[39;49m\u001b[39m\"\u001b[39;49m,\n\u001b[0;32m    862\u001b[0m         )\n\u001b[0;32m    863\u001b[0m     \u001b[39melse\u001b[39;00m:\n\u001b[0;32m    864\u001b[0m         \u001b[39m# Binary mode\u001b[39;00m\n\u001b[0;32m    865\u001b[0m         handle \u001b[39m=\u001b[39m \u001b[39mopen\u001b[39m(handle, ioargs\u001b[39m.\u001b[39mmode)\n",
      "\u001b[1;31mFileNotFoundError\u001b[0m: [Errno 2] No such file or directory: 'emotion.csv'"
     ]
    }
   ],
   "source": [
    "\n",
    "intents = {\n",
    "    'hi' : ['hello','hey','hi!','hi'],\n",
    "    'bye' : ['goodbye','buhbye','bye'],\n",
    "    'depression' : ['depressed','sad','worried','despair','misery','bad'],\n",
    "    'anxiety' : ['anxiety','anxious','nervous','stress','strain','tension','discomfort','tensed'],\n",
    "    'paranoia' :['disbelieve', 'distrustful', 'doubting', 'incredulous','mistrustful', 'negativistic','questioning','show-me','skeptical','suspecting','suspicious','unbelieving'],\n",
    "    'sleeping_disorder' :['restlessness','indisposition','sleeplessness','stress','tension','vigil','vigilance','wakefulness'],\n",
    "    'substance_abuse' :['alcohol abuse','drug abuse','drug use','addiction','alcoholic addiction','alcoholism','chemical abuse','dipsomania','drug dependence','drug habit','narcotics abuse','solvent abuse'],\n",
    "    'personality_disorder':['insanity','mental disorder','schizophrenia','craziness','delusions','depression','derangement','disturbed mind','emotional disorder','emotional instability',\n",
    "                            'loss of mind','lunacy','madness','maladjustment','mania','mental disease','mental sickness','nervous breakdown','nervous disorder',\n",
    "                            'neurosis','neurotic disorder','paranoia','phobia','psychopathy','psychosis','sick mind','troubled mind','unbalanced mind','unsoundness of mind'],\n",
    "    'happy':['good','great','relieved','happy','okay']\n",
    "}\n",
    "\n",
    "responses = {\n",
    "    'hi' : 'Hello, i am a medical healthcare chatbot!',\n",
    "    'bye' : 'Thank you for your time!',\n",
    "    'default' : 'Sorry, i am not able to understand you'\n",
    "}\n",
    "\n",
    "dictionary = {\n",
    "    'a':0,\n",
    "    'b' : 0,\n",
    "    'c' : 0,\n",
    "    'd' : 0\n",
    "}\n",
    "\n",
    "s = {\n",
    "    'a':0,\n",
    "    'b' : 1,\n",
    "    'c' : 2,\n",
    "    'd' : 3\n",
    "}\n",
    "\n",
    "questions = [\"Do you have little interest or pleasure in doing things?\",\"Feeling down, depressed, or hopeless\",\"Trouble falling or staying asleep, or sleeping too much\",\"Feeling tired or having little energy\",\"Feeling bad about yourself - or that you are a failure or have let yourself or your family down\"]\n",
    "\n",
    "data = pd.read_csv(r\"C:\\Users\\lokes\\coding filess\\PYTHON\\NLP\\datasets\\emotion dataset\\emotion.csv\", header=0, \\\n",
    "                    delimiter=\",\", quoting=2)\n",
    "\n",
    "#nlp = spacy.load(\"en_core_web_lg\")\n",
    "\n",
    "bot = \"BOT: {0}\"\n",
    "user =  \"USER: {0}\"\n",
    "\n",
    "#data = data[0:100]\n",
    "data['emotions'].value_counts().plot.bar()\n",
    "plt.show()\n",
    "print(data.columns)\n",
    "\n",
    "train, test = train_test_split(data, test_size = 0.2, random_state = 12, stratify = data['emotions'])\n",
    "\n",
    "data = pd.read_csv(\"emotion.csv\", header=0, delimiter=\",\", quoting=2, usecols=['text', 'emotions'])\n",
    "\n",
    "X = data['text']\n",
    "y = data['emotions']\n",
    "\n",
    "X_train = train.text\n",
    "y_train = train.emotions\n",
    "X_test = test.text\n",
    "y_test = test.emotions\n",
    "\n",
    "vectorizer = TfidfVectorizer( max_df= 0.9).fit(X_train)\n",
    "X_train = vectorizer.transform(X_train)\n",
    "X_test = vectorizer.transform(X_test)\n",
    "print(X_train.shape)\n",
    "\n",
    "encoder = LabelEncoder().fit(y_train)\n",
    "y_train = encoder.transform(y_train)\n",
    "y_test = encoder.transform(y_test)\n",
    "\n",
    "model = LogisticRegression(C=.1, class_weight='balanced')\n",
    "model.fit(X_train, y_train)\n",
    "y_pred_train = model.predict(X_train)\n",
    "y_pred_test = model.predict(X_test)\n",
    "print(\"Training Accuracy : \", accuracy_score(y_train, y_pred_train))\n",
    "print(\"Testing Accuracy  : \", accuracy_score(y_test, y_pred_test))\n",
    "\n",
    "negative = 0\n",
    "positive = 0\n",
    "\n",
    "\n"
   ]
  },
  {
   "cell_type": "code",
   "execution_count": null,
   "metadata": {
    "id": "ED12cOSdVEk8"
   },
   "outputs": [],
   "source": [
    "def intent(message):\n",
    "    for words in intents.keys():\n",
    "        pattern = re.compile('|'.join([syn for syn in intents[words]]))\n",
    "        match = pattern.search(message)\n",
    "        if match:\n",
    "            return words\n",
    "    return 'default'\n",
    "\n",
    "def respond(message):\n",
    "    word = intent(message)\n",
    "    return responses[word]\n",
    "\n",
    "\n"
   ]
  },
  {
   "cell_type": "code",
   "execution_count": null,
   "metadata": {
    "id": "HL1BfnEtVBwd"
   },
   "outputs": [],
   "source": [
    "\n",
    "def score(name):\n",
    "    sc = 0\n",
    "    for k in dictionary.keys():\n",
    "        sc += dictionary[k]*s[k]\n",
    "    print(\"Your mental assessment score is \",sc)\n",
    "    if(sc >=0 and sc <=5):\n",
    "        print(bot.format(\"Please make sure that you keep checking in with me. What's your mood now after opening up?\"))\n",
    "        message = input().lower()\n",
    "        m_intent = intent(message)\n",
    "        if(m_intent == 'depression'):\n",
    "            depression(name)\n",
    "        elif(m_intent == 'anxiety'):\n",
    "            anxiety(name)\n",
    "        elif(m_intent == 'sleeping disorder'):\n",
    "            sleeping_disorder(name)\n",
    "        elif(m_intent == 'paranoia'):\n",
    "            paranoia(name)\n",
    "        elif(m_intent == 'personality_disorder'):\n",
    "            personality_disorder(name)\n",
    "        elif(m_intent == substance_abuse):\n",
    "            substance_abuse(name)\n",
    "        elif(m_intent == 'happy'):\n",
    "            time.sleep(1)\n",
    "            print(bot.format(\"Please ask me for help whenever you feel like it! I'm always online.\"))\n",
    "        else:\n",
    "            extreme(name)\n",
    "    elif sc >=6 and sc <=15:\n",
    "        extreme(name)\n"
   ]
  },
  {
   "cell_type": "code",
   "execution_count": 3,
   "metadata": {
    "id": "6SA42Tn-U7Os"
   },
   "outputs": [],
   "source": [
    "def extreme(name):\n",
    "    print(bot.format(\"We\\'re really sorry to know that and for further assistance we would try to connect you with our local assistance who is available 24/7\"))\n",
    "    time.sleep(1)\n",
    "    print(bot.format(\"Here are the details\",name))\n",
    "    print(bot.format(\"Contact Jeevan Suicide Prevention Hotline\"))\n",
    "    print(bot.format(\"Address:171, Ambiga Street Golden George Nagar, Nerkundram, Chennai, Tamil Nadu 600107\"))\n",
    "    print(bot.format(\"Number : 044 2656 4444\"))\n"
   ]
  },
  {
   "cell_type": "code",
   "execution_count": 4,
   "metadata": {
    "id": "z7SlJuTrURqc"
   },
   "outputs": [],
   "source": [
    "def quiz(name):\n",
    "    time.sleep(1)\n",
    "    print(bot.format(\"Now we're starting with a small assessment and hopefully at the end of the assessment,we'll be able to evaluate your mental health\"))\n",
    "    print()\n",
    "    time.sleep(0.8)\n",
    "    print(bot.format(\"To respond please type the following answer depending upon your choice\"))\n",
    "    print(\"A. not at all\")\n",
    "    print(\"B. several days\")\n",
    "    print(\"C. more than half a day\")\n",
    "    print(\"D. all the days\")\n",
    "    print()\n",
    "    time.sleep(1)\n",
    "    print(\"Now we'll be starting with the quiz,type okay if you're ready!\")\n",
    "    inp = input().lower()\n",
    "    if inp == 'okay':\n",
    "        for sentence in questions:\n",
    "            time.sleep(1)\n",
    "            print(bot.format(sentence))\n",
    "            resp = input().lower()\n",
    "            dictionary[resp]=dictionary[resp]+1\n",
    "    else:\n",
    "        greet()\n",
    "    print()\n",
    "    time.sleep(1)\n",
    "    print(\"Thank you for taking the assessment!\")\n",
    "    for k in dictionary.keys():\n",
    "        print(k,dictionary[k])\n",
    "    score(name)\n",
    "\n",
    "def predict_(x):\n",
    "    tfidf = vectorizer.transform([x])\n",
    "    preds = model.predict(tfidf)\n",
    "    probab = model.predict_proba(tfidf)[0][preds]\n",
    "    print(preds,probab)\n",
    "    feeling(preds,probab)\n",
    "    return preds\n"
   ]
  },
  {
   "cell_type": "code",
   "execution_count": 5,
   "metadata": {
    "id": "PPzzoOKnURtN"
   },
   "outputs": [],
   "source": [
    "\n",
    "def feeling(pred,probab):\n",
    "    global negative,positive\n",
    "    if pred == 0 or pred == 1 or pred == 4:\n",
    "        negative = negative + 1;\n",
    "        if probab >= 0.5:\n",
    "            time.sleep(1)\n",
    "            print(bot.format(\"Oh, sorry to hear that!\"))\n",
    "        else:\n",
    "            time.sleep(1)\n",
    "            print(bot.format(\"Okay, thanks for sharing.\"))\n",
    "    else:\n",
    "        positive = positive + 1;\n",
    "        if probab >= 0.5:\n",
    "            time.sleep(1)\n",
    "            print(bot.format(\"That's great to hear!\"))\n",
    "        else:\n",
    "            time.sleep(1)\n",
    "            print(bot.format(\"Okay, thanks for sharing.\"))\n",
    "\n"
   ]
  },
  {
   "cell_type": "code",
   "execution_count": 6,
   "metadata": {
    "id": "8c4AJ2RYURvx"
   },
   "outputs": [],
   "source": [
    "def classification(pred):\n",
    "    if pred == 0 or pred == 1 or pred ==4:\n",
    "        return 0\n",
    "    else:\n",
    "        return 1\n",
    "\n"
   ]
  },
  {
   "cell_type": "code",
   "execution_count": 7,
   "metadata": {
    "id": "6F1EyRqFURyb"
   },
   "outputs": [],
   "source": [
    "def name_extraction(message):\n",
    "    doc = nlp(message)\n",
    "    name = ''\n",
    "    for ent in doc.ents:\n",
    "        if ent.label_==\"PERSON\":\n",
    "            return str(ent)\n",
    "    x = message.split()\n",
    "    if len(x)<=2:\n",
    "        return (x[0])\n",
    "    elif (' '.join(x[0:3]).lower())=='my name is':\n",
    "        return ''.join(x[3:])\n",
    "\n",
    "\n"
   ]
  },
  {
   "cell_type": "code",
   "execution_count": 8,
   "metadata": {
    "id": "n9-f-fwbUR01"
   },
   "outputs": [],
   "source": [
    "def cbt():\n",
    "    time.sleep(1)\n",
    "    print(bot.format(\"Mood tracking and thinking hygiene - among other useful concepts - are skills you'll learn as you practice CBT\"))\n",
    "    time.sleep(1)\n",
    "    print(bot.format(\"Skills that can help you make positive changes to your thoughts, feelings and behaviour\"))\n",
    "\n"
   ]
  },
  {
   "cell_type": "code",
   "execution_count": 9,
   "metadata": {
    "id": "Ug3nW7X3UR3q"
   },
   "outputs": [],
   "source": [
    "def depression(name):\n",
    "    time.sleep(1)\n",
    "    print(bot.format('Gosh, that is tough'))\n",
    "    time.sleep(1)\n",
    "    print(bot.format('I am sorry to hear that,'),name)\n",
    "    time.sleep(1)\n",
    "    print(bot.format('Here is a thought that might motivate you!'))\n",
    "    time.sleep(1)\n",
    "    print(bot.format('There you go...let it all slide out.Unhappiness cannot stick in a person\\'s soul when it\\'s slick with tear.'))\n",
    "\n"
   ]
  },
  {
   "cell_type": "code",
   "execution_count": 10,
   "metadata": {
    "id": "30uZks6NUR6Z"
   },
   "outputs": [],
   "source": [
    "def anxiety(name):\n",
    "    time.sleep(1)\n",
    "    print(bot.format('Gosh, that is tough'))\n",
    "    time.sleep(1)\n",
    "    print(bot.format('I am sorry to hear that,'),name)\n",
    "    time.sleep(1)\n",
    "    print(bot.format('Here is a thought that might motivate you!'))\n",
    "    time.sleep(1)\n",
    "    print(bot.format('Take a deep breath, listen to your thoughts, try to figure them out. Then take things one day at a time.'))\n",
    "\n"
   ]
  },
  {
   "cell_type": "code",
   "execution_count": 11,
   "metadata": {
    "id": "TN_ZsdTnUR8_"
   },
   "outputs": [],
   "source": [
    "def paranoia(name):\n",
    "    time.sleep(1)\n",
    "    print(bot.format('Gosh, that is tough'))\n",
    "    time.sleep(1)\n",
    "    print(bot.format('I am sorry to hear that,'),name)\n",
    "    time.sleep(1)\n",
    "    print(bot.format('Here is a thought that might motivate you!'))\n",
    "    time.sleep(1)\n",
    "    print(bot.format('If you want someone, you have to be willing to wait for them and trust that what you have is real and strong enough for them to wait for you. If somebody jumps ship for you, that fact will always haunt you because you\\'ll know they\\'re light on their feet. Spare yourself the paranoia and the pain and walk away until the coast is clear.'))\n",
    "\n"
   ]
  },
  {
   "cell_type": "code",
   "execution_count": 12,
   "metadata": {
    "id": "pqjCsIpsUR_u"
   },
   "outputs": [],
   "source": [
    "def sleeping_disorder(name):\n",
    "    time.sleep(1)\n",
    "    print(bot.format('Gosh, that is tough'))\n",
    "    time.sleep(1)\n",
    "    print(bot.format('I am sorry to hear that,'),name)\n",
    "    time.sleep(1)\n",
    "    print(bot.format('Here is a thought that might motivate you!'))\n",
    "    time.sleep(1)\n",
    "    print(bot.format('Overhead, the glass envelope of the Insomnia Balloon is malfunctioning. It blinks on and off at arrhythmic intervals, making the world go gray:black, gray:black. In the distance, a knot of twisted trees flashes like cerebral circuitry.'))\n",
    "\n"
   ]
  },
  {
   "cell_type": "code",
   "execution_count": 13,
   "metadata": {
    "id": "wIERqYQdUSCk"
   },
   "outputs": [],
   "source": [
    "\n",
    "def personality_disorder(name):\n",
    "    time.sleep(1)\n",
    "    print(bot.format('Gosh, that is tough'))\n",
    "    time.sleep(1)\n",
    "    print(bot.format('I am sorry to hear that,'),name)\n",
    "    time.sleep(1)\n",
    "    print(bot.format('Here is a thought that might motivate you!'))\n",
    "    time.sleep(1)\n",
    "    print(bot.format('...repeated trauma in childhood forms and deforms the personality. The child trapped in an abusive environment is faced with formidable tasks of adaptation. She must find a way to preserve a sense of trust in people who are untrustworthy, safety in a situation that is unsafe, control in a situation that is terrifyingly unpredictable, power in a situation of helplessness. Unable to care for or protect herself, she must compensate for the failures of adult care and protection with the only means at her disposal, an immature system of psychological defenses.'))\n",
    "\n",
    "\n"
   ]
  },
  {
   "cell_type": "code",
   "execution_count": 14,
   "metadata": {
    "id": "3HqT2fM6USE0"
   },
   "outputs": [],
   "source": [
    "def substance_abuse(name):\n",
    "    time.sleep(1)\n",
    "    print(bot.format('Gosh, that is tough'))\n",
    "    time.sleep(1)\n",
    "    print(bot.format('I am sorry to hear that,'),name)\n",
    "    time.sleep(1)\n",
    "    print(bot.format('Here is a thought that might motivate you!'))\n",
    "    time.sleep(1)\n",
    "    print(bot.format(' My Recovery Must Come First So That Everything I Love In Life Doesn’t Have To Come Last.'))"
   ]
  },
  {
   "cell_type": "code",
   "execution_count": 15,
   "metadata": {
    "id": "bzbJ_vdyUSIP"
   },
   "outputs": [
    {
     "ename": "NameError",
     "evalue": "name 'bot' is not defined",
     "output_type": "error",
     "traceback": [
      "\u001b[1;31m---------------------------------------------------------------------------\u001b[0m",
      "\u001b[1;31mNameError\u001b[0m                                 Traceback (most recent call last)",
      "Cell \u001b[1;32mIn[15], line 59\u001b[0m\n\u001b[0;32m     54\u001b[0m                 time\u001b[38;5;241m.\u001b[39msleep(\u001b[38;5;241m1\u001b[39m)\n\u001b[0;32m     55\u001b[0m                 \u001b[38;5;28mprint\u001b[39m(bot\u001b[38;5;241m.\u001b[39mformat(\u001b[38;5;124m\"\u001b[39m\u001b[38;5;124mPlease ask me for help whenever you feel like it! I\u001b[39m\u001b[38;5;124m'\u001b[39m\u001b[38;5;124mm always online.\u001b[39m\u001b[38;5;124m\"\u001b[39m))\n\u001b[1;32m---> 59\u001b[0m \u001b[43mgreet\u001b[49m\u001b[43m(\u001b[49m\u001b[43m)\u001b[49m\n",
      "Cell \u001b[1;32mIn[15], line 7\u001b[0m, in \u001b[0;36mgreet\u001b[1;34m()\u001b[0m\n\u001b[0;32m      5\u001b[0m negative \u001b[38;5;241m=\u001b[39m \u001b[38;5;241m0\u001b[39m\n\u001b[0;32m      6\u001b[0m positive \u001b[38;5;241m=\u001b[39m \u001b[38;5;241m0\u001b[39m\n\u001b[1;32m----> 7\u001b[0m \u001b[38;5;28mprint\u001b[39m(\u001b[43mbot\u001b[49m\u001b[38;5;241m.\u001b[39mformat(\u001b[38;5;124m'\u001b[39m\u001b[38;5;124mHi! I\u001b[39m\u001b[38;5;130;01m\\'\u001b[39;00m\u001b[38;5;124mm a medical healthcare chatbot!\u001b[39m\u001b[38;5;124m'\u001b[39m))\n\u001b[0;32m      8\u001b[0m time\u001b[38;5;241m.\u001b[39msleep(\u001b[38;5;241m1\u001b[39m)\n\u001b[0;32m      9\u001b[0m \u001b[38;5;28mprint\u001b[39m(bot\u001b[38;5;241m.\u001b[39mformat(\u001b[38;5;124m'\u001b[39m\u001b[38;5;124mBefore we proceed, may I know your first name?\u001b[39m\u001b[38;5;124m'\u001b[39m))\n",
      "\u001b[1;31mNameError\u001b[0m: name 'bot' is not defined"
     ]
    }
   ],
   "source": [
    "def greet():\n",
    "    global negative,positive\n",
    "    while True:\n",
    "        time.sleep(1)\n",
    "        negative = 0\n",
    "        positive = 0\n",
    "        print(bot.format('Hi! I\\'m a medical healthcare chatbot!'))\n",
    "        time.sleep(1)\n",
    "        print(bot.format('Before we proceed, may I know your first name?'))\n",
    "        message = input()\n",
    "        name = message\n",
    "        time.sleep(1)\n",
    "        print(bot.format(name),\", That's a nice name!\")\n",
    "        time.sleep(1)\n",
    "        print(bot.format(\"Before we get started, I want to know about your current mood\"))\n",
    "        message = input().lower()\n",
    "        sentiment = predict_(message)\n",
    "        time.sleep(1)\n",
    "        print(bot.format(\"So\"),name,\"I'm a CBT coach that can consult with during difficult times, and also not-so-difficult times. Do you wanna know a little more?\")\n",
    "        time.sleep(1)\n",
    "        message = input().lower()\n",
    "        sentiment = predict_(message)\n",
    "        pos = classification(sentiment)\n",
    "        if pos == 1:\n",
    "            cbt()\n",
    "        print(bot.format(name),\",can you walk me through how did your last week go?\")\n",
    "        time.sleep(1)\n",
    "        message = input().lower()\n",
    "        sentiment = predict_(message)\n",
    "        pos = classification(sentiment)\n",
    "        if pos == 0:\n",
    "            time.sleep(1)\n",
    "            print(bot.format(name),\"I know that question can be tough and sometime painful to answer so I really appreciate you doing it\")\n",
    "        time.sleep(1)\n",
    "        print(bot.format(\"Can you tell me a bit about what's going on in your life that has brought you here today?\"))\n",
    "        message = input().lower()\n",
    "        sentiment = predict_(message)\n",
    "        if(negative == 0):\n",
    "            time.sleep(1)\n",
    "            print(bot.format(\"That's awesome! You are showing improvement!\"))\n",
    "            time.sleep(1)\n",
    "        else:\n",
    "            time.sleep(1)\n",
    "            print(bot.format('I have got great tools for people dealing with stress,wanna give it a go,Yes/No?'))\n",
    "            time.sleep(1)\n",
    "            message = input().lower()\n",
    "            if  message == 'yes':\n",
    "                print(bot.format(\"Great! Thanks for trusting me\",name))\n",
    "                time.sleep(1)\n",
    "                print(bot.format(\"Let's start with a small mental assessment test,so buckle up!\"))\n",
    "                time.sleep(1)\n",
    "                quiz(name)\n",
    "            else:\n",
    "                time.sleep(1)\n",
    "                print(bot.format(\"Please ask me for help whenever you feel like it! I'm always online.\"))\n",
    "\n",
    "\n",
    "\n",
    "greet()"
   ]
  },
  {
   "cell_type": "code",
   "execution_count": null,
   "metadata": {},
   "outputs": [],
   "source": []
  },
  {
   "cell_type": "code",
   "execution_count": null,
   "metadata": {},
   "outputs": [],
   "source": []
  },
  {
   "cell_type": "code",
   "execution_count": null,
   "metadata": {},
   "outputs": [],
   "source": []
  },
  {
   "cell_type": "code",
   "execution_count": null,
   "metadata": {},
   "outputs": [],
   "source": []
  }
 ],
 "metadata": {
  "colab": {
   "provenance": []
  },
  "kernelspec": {
   "display_name": "Python 3 (ipykernel)",
   "language": "python",
   "name": "python3"
  },
  "language_info": {
   "codemirror_mode": {
    "name": "ipython",
    "version": 3
   },
   "file_extension": ".py",
   "mimetype": "text/x-python",
   "name": "python",
   "nbconvert_exporter": "python",
   "pygments_lexer": "ipython3",
   "version": "3.10.9"
  }
 },
 "nbformat": 4,
 "nbformat_minor": 1
}

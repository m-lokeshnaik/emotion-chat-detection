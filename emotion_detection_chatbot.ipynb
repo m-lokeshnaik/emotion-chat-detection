{
  "cells": [
    {
      "cell_type": "code",
      "execution_count": 2,
      "metadata": {
        "id": "hSPaOAmuUKzK"
      },
      "outputs": [],
      "source": [
        "import pandas as pd\n",
        "import time\n",
        "import re\n",
        "import matplotlib.pyplot as plt\n",
        "from sklearn.metrics import accuracy_score\n",
        "from sklearn.model_selection import train_test_split\n",
        "from sklearn.linear_model import LogisticRegression\n",
        "from sklearn.feature_extraction.text import TfidfVectorizer\n",
        "from sklearn.pipeline import Pipeline\n",
        "from sklearn.preprocessing import LabelEncoder\n",
        "import spacy\n"
      ]
    },
    {
      "cell_type": "code",
      "execution_count": 3,
      "metadata": {
        "id": "P9bzXWYLVI_S"
      },
      "outputs": [],
      "source": [
        "intents = {\n",
        "    'hi' : ['hello','hey','hi!','hi'],\n",
        "    'bye' : ['goodbye','buhbye','bye'],\n",
        "    'depression' : ['depressed','sad','worried','despair','misery','bad'],\n",
        "    'anxiety' : ['anxiety','anxious','nervous','stress','strain','tension','discomfort','tensed'],\n",
        "    'paranoia' :['disbelieve', 'distrustful', 'doubting', 'incredulous','mistrustful', 'negativistic','questioning','show-me','skeptical','suspecting','suspicious','unbelieving'],\n",
        "    'sleeping_disorder' :['restlessness','indisposition','sleeplessness','stress','tension','vigil','vigilance','wakefulness'],\n",
        "    'substance_abuse' :['alcohol abuse','drug abuse','drug use','addiction','alcoholic addiction','alcoholism','chemical abuse','dipsomania','drug dependence','drug habit','narcotics abuse','solvent abuse'],\n",
        "    'personality_disorder':['insanity','mental disorder','schizophrenia','craziness','delusions','depression','derangement','disturbed mind','emotional disorder','emotional instability',\n",
        "                            'loss of mind','lunacy','madness','maladjustment','mania','mental disease','mental sickness','nervous breakdown','nervous disorder',\n",
        "                            'neurosis','neurotic disorder','paranoia','phobia','psychopathy','psychosis','sick mind','troubled mind','unbalanced mind','unsoundness of mind'],\n",
        "    'happy':['good','great','relieved','happy','okay']\n",
        "}\n"
      ]
    },
    {
      "cell_type": "code",
      "execution_count": 4,
      "metadata": {
        "id": "lHvztc2DlTh7"
      },
      "outputs": [],
      "source": [
        "responses = {\n",
        "    'hi' : 'Hello, i am a medical healthcare chatbot!',\n",
        "    'bye' : 'Thank you for your time!',\n",
        "    'default' : 'Sorry, i am not able to understand you'\n",
        "}\n"
      ]
    },
    {
      "cell_type": "code",
      "execution_count": 5,
      "metadata": {
        "id": "2Ra1xFAElYUT"
      },
      "outputs": [],
      "source": [
        "dictionary = {\n",
        "    'a':0,\n",
        "    'b' : 0,\n",
        "    'c' : 0,\n",
        "    'd' : 0\n",
        "}\n",
        "\n",
        "\n"
      ]
    },
    {
      "cell_type": "code",
      "execution_count": 6,
      "metadata": {
        "id": "sUYbuXFYlYXf"
      },
      "outputs": [],
      "source": [
        "s = {\n",
        "    'a':0,\n",
        "    'b' : 1,\n",
        "    'c' : 2,\n",
        "    'd' : 3\n",
        "}\n"
      ]
    },
    {
      "cell_type": "code",
      "execution_count": 7,
      "metadata": {
        "id": "yQSS7MJ4lYaE"
      },
      "outputs": [],
      "source": [
        "questions = [\"Do you have little interest or pleasure in doing things?\",\"Feeling down, depressed, or hopeless\",\"Trouble falling or staying asleep, or sleeping too much\",\"Feeling tired or having little energy\",\"Feeling bad about yourself - or that you are a failure or have let yourself or your family down\"]\n",
        "\n",
        "data = pd.read_csv(r\"C:\\Users\\lokes\\coding filess\\PYTHON\\NLP\\datasets\\emotion dataset\\emotion.csv\", header=0,delimiter=\",\", quoting=2)\n",
        "\n",
        "#nlp = spacy.load(\"en_core_web_lg\")\n",
        "\n",
        "bot = \"BOT: {0}\"\n",
        "user =  \"USER: {0}\"\n"
      ]
    },
    {
      "cell_type": "code",
      "execution_count": 8,
      "metadata": {
        "id": "8iiUkahblYcb"
      },
      "outputs": [
        {
          "data": {
            "image/png": "[encoded data removed]",
            "text/plain": [
              "<Figure size 640x480 with 1 Axes>"
            ]
          },
          "metadata": {},
          "output_type": "display_data"
        },
        {
          "name": "stdout",
          "output_type": "stream",
          "text": [
            "Index(['text', 'emotions'], dtype='object')\n"
          ]
        }
      ],
      "source": [
        "#data = data[0:100]\n",
        "data['emotions'].value_counts().plot.bar()\n",
        "plt.show()\n",
        "print(data.columns)\n"
      ]
    },
    {
      "cell_type": "markdown",
      "metadata": {},
      "source": [
        "**spliting the data into training and testing**\\"
      ]
    },
    {
      "cell_type": "code",
      "execution_count": 9,
      "metadata": {
        "id": "EHdDuSyvlYfm"
      },
      "outputs": [],
      "source": [
        "train, test = train_test_split(data, test_size = 0.2, random_state = 12, stratify = data['emotions'])\n"
      ]
    },
    {
      "cell_type": "code",
      "execution_count": 10,
      "metadata": {
        "id": "Y_iwVnUSlYiM"
      },
      "outputs": [],
      "source": [
        "data = pd.read_csv(r\"C:\\Users\\lokes\\coding filess\\PYTHON\\NLP\\datasets\\emotion dataset\\emotion.csv\", header=0, delimiter=\",\", quoting=2, usecols=['text', 'emotions'])\n"
      ]
    },
    {
      "cell_type": "code",
      "execution_count": 11,
      "metadata": {
        "id": "3QacDy0elYkx"
      },
      "outputs": [],
      "source": [
        "X = data['text']\n",
        "y = data['emotions']\n",
        "\n",
        "X_train = train.text\n",
        "y_train = train.emotions\n",
        "X_test = test.text\n",
        "y_test = test.emotions\n"
      ]
    },
    {
      "cell_type": "markdown",
      "metadata": {},
      "source": [
        "**TF-IDF Vectorization**\n",
        "Before training the logistic regression model, the text data is converted into numerical features using TF-IDF (Term Frequency-Inverse Document Frequency) vectorization\n",
        "\n",
        "**max_df=0.9:** Ignores terms that have a document frequency higher than 0.9 (terms occurring in more than 90% of the documents). This helps filter out common words that might not contribute much to the classification."
      ]
    },
    {
      "cell_type": "code",
      "execution_count": 12,
      "metadata": {
        "id": "-P-inytulYnm"
      },
      "outputs": [
        {
          "name": "stdout",
          "output_type": "stream",
          "text": [
            "(1600, 4227)\n"
          ]
        }
      ],
      "source": [
        "vectorizer = TfidfVectorizer( max_df= 0.9).fit(X_train)\n",
        "X_train = vectorizer.transform(X_train)\n",
        "X_test = vectorizer.transform(X_test)\n",
        "print(X_train.shape)\n"
      ]
    },
    {
      "cell_type": "code",
      "execution_count": 13,
      "metadata": {
        "id": "SzjBY7HKlYqG"
      },
      "outputs": [],
      "source": [
        "encoder = LabelEncoder().fit(y_train)\n",
        "y_train = encoder.transform(y_train)\n",
        "y_test = encoder.transform(y_test)\n"
      ]
    },
    {
      "cell_type": "markdown",
      "metadata": {},
      "source": [
        "*Logistic Regression Model:*\n",
        "**Initialization:**\n",
        "\n",
        "**LogisticRegression:** \n",
        "\n",
        "This is a linear model for binary and multiclass classification. It uses the logistic function to model a binary dependent variable.\n",
        "\n",
        "**Parameters:**\n",
        "C=0.1: This parameter controls the regularization strength, with smaller values indicating stronger regularization. It helps prevent overfitting by penalizing large coefficients.\n",
        "class_weight='balanced': This parameter is used to handle imbalanced classes by adjusting the weights inversely proportional to class frequencies.\n",
        "\n",
        "**Training:**\n",
        "fit(X_train, y_train): This method trains the logistic regression model on the training data (X_train - TF-IDF vectorized text) with corresponding labels (y_train - emotion labels).\n",
        "\n",
        "**Prediction:**\n",
        "After training, the model is used to predict the labels for both the training and testing."
      ]
    },
    {
      "cell_type": "code",
      "execution_count": 14,
      "metadata": {
        "id": "b-O5WYAKlYsV"
      },
      "outputs": [
        {
          "name": "stdout",
          "output_type": "stream",
          "text": [
            "Training Accuracy :  0.829375\n",
            "Testing Accuracy  :  0.535\n"
          ]
        }
      ],
      "source": [
        "model = LogisticRegression(C=.1, class_weight='balanced')\n",
        "model.fit(X_train, y_train)\n",
        "y_pred_train = model.predict(X_train)\n",
        "y_pred_test = model.predict(X_test)\n",
        "print(\"Training Accuracy : \", accuracy_score(y_train, y_pred_train))\n",
        "print(\"Testing Accuracy  : \", accuracy_score(y_test, y_pred_test))\n"
      ]
    },
    {
      "cell_type": "code",
      "execution_count": 15,
      "metadata": {
        "id": "VOYdxbWGlYvs"
      },
      "outputs": [],
      "source": [
        "negative = 0\n",
        "positive = 0"
      ]
    },
    {
      "cell_type": "code",
      "execution_count": 16,
      "metadata": {
        "id": "ED12cOSdVEk8"
      },
      "outputs": [],
      "source": [
        "def intent(message):\n",
        "    for words in intents.keys():\n",
        "        pattern = re.compile('|'.join([syn for syn in intents[words]]))\n",
        "        match = pattern.search(message)\n",
        "        if match:\n",
        "            return words\n",
        "    return 'default'\n",
        "\n",
        "def respond(message):\n",
        "    word = intent(message)\n",
        "    return responses[word]\n",
        "\n"
      ]
    },
    {
      "cell_type": "code",
      "execution_count": 17,
      "metadata": {
        "id": "HL1BfnEtVBwd"
      },
      "outputs": [],
      "source": [
        "\n",
        "def score(name):\n",
        "    sc = 0\n",
        "    for k in dictionary.keys():\n",
        "        sc += dictionary[k]*s[k]\n",
        "    print(\"Your mental assessment score is \",sc)\n",
        "    if(sc >=0 and sc <=5):\n",
        "        print(bot.format(\"Please make sure that you keep checking in with me. What's your mood now after opening up?\"))\n",
        "        message = input().lower()\n",
        "        m_intent = intent(message)\n",
        "        if(m_intent == 'depression'):\n",
        "            depression(name)\n",
        "        elif(m_intent == 'anxiety'):\n",
        "            anxiety(name)\n",
        "        elif(m_intent == 'sleeping disorder'):\n",
        "            sleeping_disorder(name)\n",
        "        elif(m_intent == 'paranoia'):\n",
        "            paranoia(name)\n",
        "        elif(m_intent == 'personality_disorder'):\n",
        "            personality_disorder(name)\n",
        "        elif(m_intent == substance_abuse):\n",
        "            substance_abuse(name)\n",
        "        elif(m_intent == 'happy'):\n",
        "            time.sleep(1)\n",
        "            print(bot.format(\"Please ask me for help whenever you feel like it! I'm always online.\"))\n",
        "        else:\n",
        "            extreme(name)\n",
        "    elif sc >=6 and sc <=15:\n",
        "        extreme(name)\n"
      ]
    },
    {
      "cell_type": "code",
      "execution_count": 18,
      "metadata": {
        "id": "6SA42Tn-U7Os"
      },
      "outputs": [],
      "source": [
        "def extreme(name):\n",
        "    print(bot.format(\"We\\'re really sorry to know that and for further assistance we would try to connect you with our local assistance who is available 24/7\"))\n",
        "    time.sleep(1)\n",
        "    print(bot.format(\"Here are the details\",name))\n",
        "    print(bot.format(\"Contact Jeevan Suicide Prevention Hotline\"))\n",
        "    print(bot.format(\"Address:171, Ambiga Street Golden George Nagar, Nerkundram, Chennai, Tamil Nadu 600107\"))\n",
        "    print(bot.format(\"Number : 044 2656 4444\"))\n"
      ]
    },
    {
      "cell_type": "code",
      "execution_count": 19,
      "metadata": {
        "id": "z7SlJuTrURqc"
      },
      "outputs": [],
      "source": [
        "def quiz(name):\n",
        "    time.sleep(1)\n",
        "    print(bot.format(\"Now we're starting with a small assessment and hopefully at the end of the assessment,we'll be able to evaluate your mental health\"))\n",
        "    print()\n",
        "    time.sleep(0.8)\n",
        "    print(bot.format(\"To respond please type the following answer depending upon your choice\"))\n",
        "    print(\"A. not at all\")\n",
        "    print(\"B. several days\")\n",
        "    print(\"C. more than half a day\")\n",
        "    print(\"D. all the days\")\n",
        "    print()\n",
        "    time.sleep(1)\n",
        "    print(\"Now we'll be starting with the quiz,type okay if you're ready!\")\n",
        "    inp = input().lower()\n",
        "    if inp == 'okay':\n",
        "        for sentence in questions:\n",
        "            time.sleep(1)\n",
        "            print(bot.format(sentence))\n",
        "            resp = input().lower()\n",
        "            dictionary[resp]=dictionary[resp]+1\n",
        "    else:\n",
        "        greet()\n",
        "    print()\n",
        "    time.sleep(1)\n",
        "    print(\"Thank you for taking the assessment!\")\n",
        "    for k in dictionary.keys():\n",
        "        print(k,dictionary[k])\n",
        "    score(name)\n",
        "\n",
        "def predict_(x):\n",
        "    tfidf = vectorizer.transform([x])\n",
        "    preds = model.predict(tfidf)\n",
        "    probab = model.predict_proba(tfidf)[0][preds]\n",
        "    print(preds,probab)\n",
        "    feeling(preds,probab)\n",
        "    return preds\n"
      ]
    },
    {
      "cell_type": "code",
      "execution_count": 20,
      "metadata": {
        "id": "PPzzoOKnURtN"
      },
      "outputs": [],
      "source": [
        "\n",
        "def feeling(pred,probab):\n",
        "    global negative,positive\n",
        "    if pred == 0 or pred == 1 or pred == 4:\n",
        "        negative = negative + 1;\n",
        "        if probab >= 0.5:\n",
        "            time.sleep(1)\n",
        "            print(bot.format(\"Oh, sorry to hear that!\"))\n",
        "        else:\n",
        "            time.sleep(1)\n",
        "            print(bot.format(\"Okay, thanks for sharing.\"))\n",
        "    else:\n",
        "        positive = positive + 1;\n",
        "        if probab >= 0.5:\n",
        "            time.sleep(1)\n",
        "            print(bot.format(\"That's great to hear!\"))\n",
        "        else:\n",
        "            time.sleep(1)\n",
        "            print(bot.format(\"Okay, thanks for sharing.\"))\n",
        "\n"
      ]
    },
    {
      "cell_type": "code",
      "execution_count": 21,
      "metadata": {
        "id": "8c4AJ2RYURvx"
      },
      "outputs": [],
      "source": [
        "def classification(pred):\n",
        "    if pred == 0 or pred == 1 or pred ==4:\n",
        "        return 0\n",
        "    else:\n",
        "        return 1\n",
        "\n"
      ]
    },
    {
      "cell_type": "code",
      "execution_count": 22,
      "metadata": {
        "id": "6F1EyRqFURyb"
      },
      "outputs": [],
      "source": [
        "def name_extraction(message):\n",
        "    doc = nlp(message)\n",
        "    name = ''\n",
        "    for ent in doc.ents:\n",
        "        if ent.label_==\"PERSON\":\n",
        "            return str(ent)\n",
        "    x = message.split()\n",
        "    if len(x)<=2:\n",
        "        return (x[0])\n",
        "    elif (' '.join(x[0:3]).lower())=='my name is':\n",
        "        return ''.join(x[3:])\n",
        "\n",
        "\n"
      ]
    },
    {
      "cell_type": "code",
      "execution_count": 23,
      "metadata": {
        "id": "n9-f-fwbUR01"
      },
      "outputs": [],
      "source": [
        "def cbt():\n",
        "    time.sleep(1)\n",
        "    print(bot.format(\"Mood tracking and thinking hygiene - among other useful concepts - are skills you'll learn as you practice CBT\"))\n",
        "    time.sleep(1)\n",
        "    print(bot.format(\"Skills that can help you make positive changes to your thoughts, feelings and behaviour\"))\n",
        "\n"
      ]
    },
    {
      "cell_type": "code",
      "execution_count": 24,
      "metadata": {
        "id": "Ug3nW7X3UR3q"
      },
      "outputs": [],
      "source": [
        "def depression(name):\n",
        "    time.sleep(1)\n",
        "    print(bot.format('Gosh, that is tough'))\n",
        "    time.sleep(1)\n",
        "    print(bot.format('I am sorry to hear that,'),name)\n",
        "    time.sleep(1)\n",
        "    print(bot.format('Here is a thought that might motivate you!'))\n",
        "    time.sleep(1)\n",
        "    print(bot.format('There you go...let it all slide out.Unhappiness cannot stick in a person\\'s soul when it\\'s slick with tear.'))\n",
        "\n"
      ]
    },
    {
      "cell_type": "code",
      "execution_count": 25,
      "metadata": {
        "id": "30uZks6NUR6Z"
      },
      "outputs": [],
      "source": [
        "def anxiety(name):\n",
        "    time.sleep(1)\n",
        "    print(bot.format('Gosh, that is tough'))\n",
        "    time.sleep(1)\n",
        "    print(bot.format('I am sorry to hear that,'),name)\n",
        "    time.sleep(1)\n",
        "    print(bot.format('Here is a thought that might motivate you!'))\n",
        "    time.sleep(1)\n",
        "    print(bot.format('Take a deep breath, listen to your thoughts, try to figure them out. Then take things one day at a time.'))\n",
        "\n"
      ]
    },
    {
      "cell_type": "code",
      "execution_count": 26,
      "metadata": {
        "id": "TN_ZsdTnUR8_"
      },
      "outputs": [],
      "source": [
        "def paranoia(name):\n",
        "    time.sleep(1)\n",
        "    print(bot.format('Gosh, that is tough'))\n",
        "    time.sleep(1)\n",
        "    print(bot.format('I am sorry to hear that,'),name)\n",
        "    time.sleep(1)\n",
        "    print(bot.format('Here is a thought that might motivate you!'))\n",
        "    time.sleep(1)\n",
        "    print(bot.format('If you want someone, you have to be willing to wait for them and trust that what you have is real and strong enough for them to wait for you. If somebody jumps ship for you, that fact will always haunt you because you\\'ll know they\\'re light on their feet. Spare yourself the paranoia and the pain and walk away until the coast is clear.'))\n",
        "\n"
      ]
    },
    {
      "cell_type": "code",
      "execution_count": 27,
      "metadata": {
        "id": "pqjCsIpsUR_u"
      },
      "outputs": [],
      "source": [
        "def sleeping_disorder(name):\n",
        "    time.sleep(1)\n",
        "    print(bot.format('Gosh, that is tough'))\n",
        "    time.sleep(1)\n",
        "    print(bot.format('I am sorry to hear that,'),name)\n",
        "    time.sleep(1)\n",
        "    print(bot.format('Here is a thought that might motivate you!'))\n",
        "    time.sleep(1)\n",
        "    print(bot.format('Overhead, the glass envelope of the Insomnia Balloon is malfunctioning. It blinks on and off at arrhythmic intervals, making the world go gray:black, gray:black. In the distance, a knot of twisted trees flashes like cerebral circuitry.'))\n",
        "\n"
      ]
    },
    {
      "cell_type": "code",
      "execution_count": 28,
      "metadata": {
        "id": "wIERqYQdUSCk"
      },
      "outputs": [],
      "source": [
        "\n",
        "def personality_disorder(name):\n",
        "    time.sleep(1)\n",
        "    print(bot.format('Gosh, that is tough'))\n",
        "    time.sleep(1)\n",
        "    print(bot.format('I am sorry to hear that,'),name)\n",
        "    time.sleep(1)\n",
        "    print(bot.format('Here is a thought that might motivate you!'))\n",
        "    time.sleep(1)\n",
        "    print(bot.format('...repeated trauma in childhood forms and deforms the personality. The child trapped in an abusive environment is faced with formidable tasks of adaptation. She must find a way to preserve a sense of trust in people who are untrustworthy, safety in a situation that is unsafe, control in a situation that is terrifyingly unpredictable, power in a situation of helplessness. Unable to care for or protect herself, she must compensate for the failures of adult care and protection with the only means at her disposal, an immature system of psychological defenses.'))\n",
        "\n",
        "\n"
      ]
    },
    {
      "cell_type": "code",
      "execution_count": 29,
      "metadata": {
        "id": "3HqT2fM6USE0"
      },
      "outputs": [],
      "source": [
        "def substance_abuse(name):\n",
        "    time.sleep(1)\n",
        "    print(bot.format('Gosh, that is tough'))\n",
        "    time.sleep(1)\n",
        "    print(bot.format('I am sorry to hear that,'),name)\n",
        "    time.sleep(1)\n",
        "    print(bot.format('Here is a thought that might motivate you!'))\n",
        "    time.sleep(1)\n",
        "    print(bot.format(' My Recovery Must Come First So That Everything I Love In Life Doesn’t Have To Come Last.'))"
      ]
    },
    {
      "cell_type": "code",
      "execution_count": 30,
      "metadata": {
        "id": "bzbJ_vdyUSIP",
        "outputId": "8898731b-9021-4c9e-eb50-f08dbc056818"
      },
      "outputs": [
        {
          "name": "stdout",
          "output_type": "stream",
          "text": [
            "BOT: Hi! I'm a medical healthcare chatbot!\n",
            "BOT: Before we proceed, may I know your first name?\n",
            "BOT: loki , That's a nice name!\n",
            "BOT: Before we get started, I want to know about your current mood\n",
            "[1] [0.2073405]\n",
            "BOT: Okay, thanks for sharing.\n",
            "BOT: So loki I'm a CBT coach that can consult with during difficult times, and also not-so-difficult times. Do you wanna know a little more?\n",
            "[0] [0.17541447]\n",
            "BOT: Okay, thanks for sharing.\n",
            "BOT: loki ,can you walk me through how did your last week go?\n",
            "[1] [0.17658848]\n",
            "BOT: Okay, thanks for sharing.\n",
            "BOT: loki I know that question can be tough and sometime painful to answer so I really appreciate you doing it\n",
            "BOT: Can you tell me a bit about what's going on in your life that has brought you here today?\n",
            "[3] [0.19167636]\n",
            "BOT: Okay, thanks for sharing.\n",
            "BOT: I have got great tools for people dealing with stress,wanna give it a go,Yes/No?\n",
            "BOT: Please ask me for help whenever you feel like it! I'm always online.\n",
            "BOT: Hi! I'm a medical healthcare chatbot!\n",
            "BOT: Before we proceed, may I know your first name?\n",
            "BOT: exit , That's a nice name!\n",
            "BOT: Before we get started, I want to know about your current mood\n",
            "[1] [0.17351084]\n",
            "BOT: Okay, thanks for sharing.\n",
            "BOT: So exit I'm a CBT coach that can consult with during difficult times, and also not-so-difficult times. Do you wanna know a little more?\n"
          ]
        }
      ],
      "source": [
        "def greet():\n",
        "    global negative,positive\n",
        "    while True:\n",
        "        time.sleep(1)\n",
        "        negative = 0\n",
        "        positive = 0\n",
        "        print(bot.format('Hi! I\\'m a medical healthcare chatbot!'))\n",
        "        time.sleep(1)\n",
        "        print(bot.format('Before we proceed, may I know your first name?'))\n",
        "        message = input()\n",
        "        name = message\n",
        "        time.sleep(1)\n",
        "        print(bot.format(name),\", That's a nice name!\")\n",
        "        time.sleep(1)\n",
        "        print(bot.format(\"Before we get started, I want to know about your current mood\"))\n",
        "        message = input().lower()\n",
        "        sentiment = predict_(message)\n",
        "        time.sleep(1)\n",
        "        print(bot.format(\"So\"),name,\"I'm a CBT coach that can consult with during difficult times, and also not-so-difficult times. Do you wanna know a little more?\")\n",
        "        time.sleep(1)\n",
        "        message = input().lower()\n",
        "        sentiment = predict_(message)\n",
        "        pos = classification(sentiment)\n",
        "        if pos == 1:\n",
        "            cbt()\n",
        "        print(bot.format(name),\",can you walk me through how did your last week go?\")\n",
        "        time.sleep(1)\n",
        "        message = input().lower()\n",
        "        sentiment = predict_(message)\n",
        "        pos = classification(sentiment)\n",
        "        if pos == 0:\n",
        "            time.sleep(1)\n",
        "            print(bot.format(name),\"I know that question can be tough and sometime painful to answer so I really appreciate you doing it\")\n",
        "        time.sleep(1)\n",
        "        print(bot.format(\"Can you tell me a bit about what's going on in your life that has brought you here today?\"))\n",
        "        message = input().lower()\n",
        "        sentiment = predict_(message)\n",
        "        if(negative == 0):\n",
        "            time.sleep(1)\n",
        "            print(bot.format(\"That's awesome! You are showing improvement!\"))\n",
        "            time.sleep(1)\n",
        "        else:\n",
        "            time.sleep(1)\n",
        "            print(bot.format('I have got great tools for people dealing with stress,wanna give it a go,Yes/No?'))\n",
        "            time.sleep(1)\n",
        "            message = input().lower()\n",
        "            if  message == 'yes':\n",
        "                print(bot.format(\"Great! Thanks for trusting me\",name))\n",
        "                time.sleep(1)\n",
        "                print(bot.format(\"Let's start with a small mental assessment test,so buckle up!\"))\n",
        "                time.sleep(1)\n",
        "                quiz(name)\n",
        "            else:\n",
        "                time.sleep(1)\n",
        "                print(bot.format(\"Please ask me for help whenever you feel like it! I'm always online.\"))\n",
        "\n",
        "\n",
        "\n",
        "greet()"
      ]
    }
  ],
  "metadata": {
    "colab": {
      "provenance": []
    },
    "kernelspec": {
      "display_name": "Python 3 (ipykernel)",
      "language": "python",
      "name": "python3"
    },
    "language_info": {
      "codemirror_mode": {
        "name": "ipython",
        "version": 3
      },
      "file_extension": ".py",
      "mimetype": "text/x-python",
      "name": "python",
      "nbconvert_exporter": "python",
      "pygments_lexer": "ipython3",
      "version": "3.10.9"
    }
  },
  "nbformat": 4,
  "nbformat_minor": 0
}
